{
 "cells": [
  {
   "cell_type": "markdown",
   "id": "0743effe",
   "metadata": {},
   "source": [
    "# ℹ️ Introduction to data science notebooks\n",
    "\n",
    "You can skip this section if you are already familiar with data science notebooks.\n",
    "\n",
    "## Data science notebooks\n",
    "A _data science notebook_ is a document that contains text cells (what you're reading right now) and code cells. What is unique with a notebook is that it's **interactive**: You can change or add code cells, and then **run** a cell by selecting it and then clicking the **Run** button above ( <strong>▶</strong>, or Run All ) or hitting `shift + enter`.\n",
    "\n",
    "The result will be displayed directly in the notebook. \n",
    "\n",
    "Try running the cell below:"
   ]
  },
  {
   "cell_type": "code",
   "execution_count": 29,
   "id": "7e3543ec",
   "metadata": {},
   "outputs": [
    {
     "data": {
      "text/plain": [
       "2800.0"
      ]
     },
     "execution_count": 29,
     "metadata": {},
     "output_type": "execute_result"
    }
   ],
   "source": [
    "# Run this cell to see the result\n",
    "100 * 1.75 * 16"
   ]
  },
  {
   "cell_type": "markdown",
   "id": "95a7ffb5",
   "metadata": {},
   "source": [
    "Modify any of the numbers and rerun the cell."
   ]
  },
  {
   "cell_type": "markdown",
   "id": "4118f8a0",
   "metadata": {},
   "source": [
    "## Data science notebooks & data analysis\n",
    "Notebooks are great for interactive data analysis. Let's create a pandas DataFrame using the `read_csv()` function. \n",
    "\n",
    "We will load the dataset \"sales_data.csv\" containing three months of sales data for the company. We use the `parse_dates` option to ensure that the \"date\" column is loaded correctly.\n",
    "\n",
    "By using the `head()` command, we display the first five rows of data:"
   ]
  },
  {
   "cell_type": "code",
   "execution_count": 30,
   "id": "70a3b9bd",
   "metadata": {},
   "outputs": [
    {
     "data": {
      "application/com.datacamp.data-table.v1+json": {
       "table": {
        "data": [
         {
          "client_type": "Retail",
          "date": "2021-06-01T00:00:00.000Z",
          "index": 0,
          "payment": "Credit card",
          "product_line": "Miscellaneous",
          "quantity": 8,
          "total": 134.83,
          "unit_price": 16.85,
          "warehouse": "Central"
         },
         {
          "client_type": "Retail",
          "date": "2021-06-01T00:00:00.000Z",
          "index": 1,
          "payment": "Cash",
          "product_line": "Breaking system",
          "quantity": 9,
          "total": 173.61,
          "unit_price": 19.29,
          "warehouse": "North"
         },
         {
          "client_type": "Retail",
          "date": "2021-06-01T00:00:00.000Z",
          "index": 2,
          "payment": "Credit card",
          "product_line": "Suspension & traction",
          "quantity": 8,
          "total": 263.45,
          "unit_price": 32.93,
          "warehouse": "North"
         },
         {
          "client_type": "Wholesale",
          "date": "2021-06-01T00:00:00.000Z",
          "index": 3,
          "payment": "Transfer",
          "product_line": "Frame & body",
          "quantity": 16,
          "total": 605.44,
          "unit_price": 37.84,
          "warehouse": "North"
         },
         {
          "client_type": "Retail",
          "date": "2021-06-01T00:00:00.000Z",
          "index": 4,
          "payment": "Credit card",
          "product_line": "Engine",
          "quantity": 2,
          "total": 120.96,
          "unit_price": 60.48,
          "warehouse": "Central"
         }
        ],
        "schema": {
         "fields": [
          {
           "name": "index",
           "type": "integer"
          },
          {
           "name": "date",
           "type": "datetime"
          },
          {
           "name": "warehouse",
           "type": "string"
          },
          {
           "name": "client_type",
           "type": "string"
          },
          {
           "name": "product_line",
           "type": "string"
          },
          {
           "name": "quantity",
           "type": "integer"
          },
          {
           "name": "unit_price",
           "type": "number"
          },
          {
           "name": "total",
           "type": "number"
          },
          {
           "name": "payment",
           "type": "string"
          }
         ],
         "pandas_version": "1.4.0",
         "primaryKey": [
          "index"
         ]
        }
       },
       "total_rows": 5,
       "truncation_type": null
      },
      "text/html": [
       "<div>\n",
       "<style scoped>\n",
       "    .dataframe tbody tr th:only-of-type {\n",
       "        vertical-align: middle;\n",
       "    }\n",
       "\n",
       "    .dataframe tbody tr th {\n",
       "        vertical-align: top;\n",
       "    }\n",
       "\n",
       "    .dataframe thead th {\n",
       "        text-align: right;\n",
       "    }\n",
       "</style>\n",
       "<table border=\"1\" class=\"dataframe\">\n",
       "  <thead>\n",
       "    <tr style=\"text-align: right;\">\n",
       "      <th></th>\n",
       "      <th>date</th>\n",
       "      <th>warehouse</th>\n",
       "      <th>client_type</th>\n",
       "      <th>product_line</th>\n",
       "      <th>quantity</th>\n",
       "      <th>unit_price</th>\n",
       "      <th>total</th>\n",
       "      <th>payment</th>\n",
       "    </tr>\n",
       "  </thead>\n",
       "  <tbody>\n",
       "    <tr>\n",
       "      <th>0</th>\n",
       "      <td>2021-06-01</td>\n",
       "      <td>Central</td>\n",
       "      <td>Retail</td>\n",
       "      <td>Miscellaneous</td>\n",
       "      <td>8</td>\n",
       "      <td>16.85</td>\n",
       "      <td>134.83</td>\n",
       "      <td>Credit card</td>\n",
       "    </tr>\n",
       "    <tr>\n",
       "      <th>1</th>\n",
       "      <td>2021-06-01</td>\n",
       "      <td>North</td>\n",
       "      <td>Retail</td>\n",
       "      <td>Breaking system</td>\n",
       "      <td>9</td>\n",
       "      <td>19.29</td>\n",
       "      <td>173.61</td>\n",
       "      <td>Cash</td>\n",
       "    </tr>\n",
       "    <tr>\n",
       "      <th>2</th>\n",
       "      <td>2021-06-01</td>\n",
       "      <td>North</td>\n",
       "      <td>Retail</td>\n",
       "      <td>Suspension &amp; traction</td>\n",
       "      <td>8</td>\n",
       "      <td>32.93</td>\n",
       "      <td>263.45</td>\n",
       "      <td>Credit card</td>\n",
       "    </tr>\n",
       "    <tr>\n",
       "      <th>3</th>\n",
       "      <td>2021-06-01</td>\n",
       "      <td>North</td>\n",
       "      <td>Wholesale</td>\n",
       "      <td>Frame &amp; body</td>\n",
       "      <td>16</td>\n",
       "      <td>37.84</td>\n",
       "      <td>605.44</td>\n",
       "      <td>Transfer</td>\n",
       "    </tr>\n",
       "    <tr>\n",
       "      <th>4</th>\n",
       "      <td>2021-06-01</td>\n",
       "      <td>Central</td>\n",
       "      <td>Retail</td>\n",
       "      <td>Engine</td>\n",
       "      <td>2</td>\n",
       "      <td>60.48</td>\n",
       "      <td>120.96</td>\n",
       "      <td>Credit card</td>\n",
       "    </tr>\n",
       "  </tbody>\n",
       "</table>\n",
       "</div>"
      ],
      "text/plain": [
       "        date warehouse client_type           product_line  quantity  \\\n",
       "0 2021-06-01   Central      Retail          Miscellaneous         8   \n",
       "1 2021-06-01     North      Retail        Breaking system         9   \n",
       "2 2021-06-01     North      Retail  Suspension & traction         8   \n",
       "3 2021-06-01     North   Wholesale           Frame & body        16   \n",
       "4 2021-06-01   Central      Retail                 Engine         2   \n",
       "\n",
       "   unit_price   total      payment  \n",
       "0       16.85  134.83  Credit card  \n",
       "1       19.29  173.61         Cash  \n",
       "2       32.93  263.45  Credit card  \n",
       "3       37.84  605.44     Transfer  \n",
       "4       60.48  120.96  Credit card  "
      ]
     },
     "execution_count": 30,
     "metadata": {},
     "output_type": "execute_result"
    }
   ],
   "source": [
    "# Importing the pandas module\n",
    "import pandas as pd\n",
    "\n",
    "# Reading in the sales data\n",
    "df = pd.read_csv('data/sales_data.csv', parse_dates=['date'])\n",
    "\n",
    "# Take a look at the first datapoints\n",
    "df.head()"
   ]
  },
  {
   "cell_type": "markdown",
   "id": "e284bdf0",
   "metadata": {},
   "source": [
    "## Data analysis example:\n",
    "\n",
    "Find the total sales for each warehouse. \n",
    "\n",
    "We can use `groupby` to group the information by the column \"warehouse\". Then we select the column \"total\" and use `.sum()` to add the \"total\" column for each warehouse:"
   ]
  },
  {
   "cell_type": "code",
   "execution_count": 31,
   "id": "5d4e35b9",
   "metadata": {},
   "outputs": [
    {
     "data": {
      "application/com.datacamp.data-table.v1+json": {
       "table": {
        "data": [
         {
          "total": 141982.88,
          "warehouse": "Central"
         },
         {
          "total": 100203.63,
          "warehouse": "North"
         },
         {
          "total": 46926.49,
          "warehouse": "West"
         }
        ],
        "schema": {
         "fields": [
          {
           "name": "warehouse",
           "type": "string"
          },
          {
           "name": "total",
           "type": "number"
          }
         ],
         "pandas_version": "1.4.0",
         "primaryKey": [
          "warehouse"
         ]
        }
       },
       "total_rows": 3,
       "truncation_type": null
      },
      "text/html": [
       "<div>\n",
       "<style scoped>\n",
       "    .dataframe tbody tr th:only-of-type {\n",
       "        vertical-align: middle;\n",
       "    }\n",
       "\n",
       "    .dataframe tbody tr th {\n",
       "        vertical-align: top;\n",
       "    }\n",
       "\n",
       "    .dataframe thead th {\n",
       "        text-align: right;\n",
       "    }\n",
       "</style>\n",
       "<table border=\"1\" class=\"dataframe\">\n",
       "  <thead>\n",
       "    <tr style=\"text-align: right;\">\n",
       "      <th></th>\n",
       "      <th>total</th>\n",
       "    </tr>\n",
       "    <tr>\n",
       "      <th>warehouse</th>\n",
       "      <th></th>\n",
       "    </tr>\n",
       "  </thead>\n",
       "  <tbody>\n",
       "    <tr>\n",
       "      <th>Central</th>\n",
       "      <td>141982.88</td>\n",
       "    </tr>\n",
       "    <tr>\n",
       "      <th>North</th>\n",
       "      <td>100203.63</td>\n",
       "    </tr>\n",
       "    <tr>\n",
       "      <th>West</th>\n",
       "      <td>46926.49</td>\n",
       "    </tr>\n",
       "  </tbody>\n",
       "</table>\n",
       "</div>"
      ],
      "text/plain": [
       "               total\n",
       "warehouse           \n",
       "Central    141982.88\n",
       "North      100203.63\n",
       "West        46926.49"
      ]
     },
     "execution_count": 31,
     "metadata": {},
     "output_type": "execute_result"
    }
   ],
   "source": [
    "df.groupby('warehouse')[['total']].sum()"
   ]
  },
  {
   "cell_type": "markdown",
   "id": "79f08582",
   "metadata": {},
   "source": [
    "## Data science notebooks & visualizations\n",
    "Visualizations are very helpful to summarize data and gain insights. A well-crafted chart often conveys information much better than a table.\n",
    "\n",
    "It is very straightforward to include plots in a data science notebook. For example, let's look at the average number of items purchased by each client type. \n",
    "\n",
    "We are using the `matplotlib.pyplot` library for this example. We will run the `.plot()` method on the data we want to display and call `plt.show()` to draw the plot:"
   ]
  },
  {
   "cell_type": "code",
   "execution_count": 32,
   "id": "4f22ecb4",
   "metadata": {},
   "outputs": [
    {
     "data": {
      "image/png": "[encoded data removed]",
      "text/plain": [
       "<Figure size 640x480 with 1 Axes>"
      ]
     },
     "metadata": {},
     "output_type": "display_data"
    }
   ],
   "source": [
    "import matplotlib.pyplot as plt\n",
    "\n",
    "avg_units_client_type = df.groupby('client_type')['quantity'].mean()\n",
    "avg_units_client_type.plot(kind='barh')\n",
    "plt.show()"
   ]
  },
  {
   "cell_type": "markdown",
   "id": "f8b70d12",
   "metadata": {},
   "source": [
    "# Reporting on sales data\n",
    "\n",
    "Now let's now move on to the competition and challenge.\n",
    "\n",
    "## 📖 Background\n",
    "You work in the accounting department of a company that sells motorcycle parts. The company operates three warehouses in a large metropolitan area.\n",
    "\n",
    "You’ve recently learned data manipulation and plotting, and suggest helping your colleague analyze past sales data. Your colleague wants to capture sales by payment method. She also needs to know the average unit price for each product line."
   ]
  },
  {
   "cell_type": "markdown",
   "id": "bb4cd736",
   "metadata": {},
   "source": [
    "## 💾 The data\n",
    "\n",
    "#### The sales data has the following fields:\n",
    "- \"date\" - The date, from June to August 2021.\n",
    "- \"warehouse\" - The company operates three warehouses: North, Central, and West.\n",
    "- \"client_type\" - There are two types of customers: Retail and Wholesale.\n",
    "- \"product_line\" - Type of products purchased.\n",
    "- \"quantity\" - How many items were purchased.\n",
    "- \"unit_price\" - Price per item sold.\n",
    "- \"total\" - Total sale = quantity * unit_price.\n",
    "- \"payment\" - How the client paid: Cash, Credit card, Transfer."
   ]
  },
  {
   "cell_type": "code",
   "execution_count": 33,
   "id": "9e45e1f8",
   "metadata": {},
   "outputs": [
    {
     "data": {
      "application/com.datacamp.data-table.v1+json": {
       "table": {
        "data": [
         {
          "client_type": "Retail",
          "date": "2021-06-01T00:00:00.000Z",
          "index": 0,
          "payment": "Credit card",
          "product_line": "Miscellaneous",
          "quantity": 8,
          "total": 134.83,
          "unit_price": 16.85,
          "warehouse": "Central"
         },
         {
          "client_type": "Retail",
          "date": "2021-06-01T00:00:00.000Z",
          "index": 1,
          "payment": "Cash",
          "product_line": "Breaking system",
          "quantity": 9,
          "total": 173.61,
          "unit_price": 19.29,
          "warehouse": "North"
         },
         {
          "client_type": "Retail",
          "date": "2021-06-01T00:00:00.000Z",
          "index": 2,
          "payment": "Credit card",
          "product_line": "Suspension & traction",
          "quantity": 8,
          "total": 263.45,
          "unit_price": 32.93,
          "warehouse": "North"
         },
         {
          "client_type": "Wholesale",
          "date": "2021-06-01T00:00:00.000Z",
          "index": 3,
          "payment": "Transfer",
          "product_line": "Frame & body",
          "quantity": 16,
          "total": 605.44,
          "unit_price": 37.84,
          "warehouse": "North"
         },
         {
          "client_type": "Retail",
          "date": "2021-06-01T00:00:00.000Z",
          "index": 4,
          "payment": "Credit card",
          "product_line": "Engine",
          "quantity": 2,
          "total": 120.96,
          "unit_price": 60.48,
          "warehouse": "Central"
         }
        ],
        "schema": {
         "fields": [
          {
           "name": "index",
           "type": "integer"
          },
          {
           "name": "date",
           "type": "datetime"
          },
          {
           "name": "warehouse",
           "type": "string"
          },
          {
           "name": "client_type",
           "type": "string"
          },
          {
           "name": "product_line",
           "type": "string"
          },
          {
           "name": "quantity",
           "type": "integer"
          },
          {
           "name": "unit_price",
           "type": "number"
          },
          {
           "name": "total",
           "type": "number"
          },
          {
           "name": "payment",
           "type": "string"
          }
         ],
         "pandas_version": "1.4.0",
         "primaryKey": [
          "index"
         ]
        }
       },
       "total_rows": 5,
       "truncation_type": null
      },
      "text/html": [
       "<div>\n",
       "<style scoped>\n",
       "    .dataframe tbody tr th:only-of-type {\n",
       "        vertical-align: middle;\n",
       "    }\n",
       "\n",
       "    .dataframe tbody tr th {\n",
       "        vertical-align: top;\n",
       "    }\n",
       "\n",
       "    .dataframe thead th {\n",
       "        text-align: right;\n",
       "    }\n",
       "</style>\n",
       "<table border=\"1\" class=\"dataframe\">\n",
       "  <thead>\n",
       "    <tr style=\"text-align: right;\">\n",
       "      <th></th>\n",
       "      <th>date</th>\n",
       "      <th>warehouse</th>\n",
       "      <th>client_type</th>\n",
       "      <th>product_line</th>\n",
       "      <th>quantity</th>\n",
       "      <th>unit_price</th>\n",
       "      <th>total</th>\n",
       "      <th>payment</th>\n",
       "    </tr>\n",
       "  </thead>\n",
       "  <tbody>\n",
       "    <tr>\n",
       "      <th>0</th>\n",
       "      <td>2021-06-01</td>\n",
       "      <td>Central</td>\n",
       "      <td>Retail</td>\n",
       "      <td>Miscellaneous</td>\n",
       "      <td>8</td>\n",
       "      <td>16.85</td>\n",
       "      <td>134.83</td>\n",
       "      <td>Credit card</td>\n",
       "    </tr>\n",
       "    <tr>\n",
       "      <th>1</th>\n",
       "      <td>2021-06-01</td>\n",
       "      <td>North</td>\n",
       "      <td>Retail</td>\n",
       "      <td>Breaking system</td>\n",
       "      <td>9</td>\n",
       "      <td>19.29</td>\n",
       "      <td>173.61</td>\n",
       "      <td>Cash</td>\n",
       "    </tr>\n",
       "    <tr>\n",
       "      <th>2</th>\n",
       "      <td>2021-06-01</td>\n",
       "      <td>North</td>\n",
       "      <td>Retail</td>\n",
       "      <td>Suspension &amp; traction</td>\n",
       "      <td>8</td>\n",
       "      <td>32.93</td>\n",
       "      <td>263.45</td>\n",
       "      <td>Credit card</td>\n",
       "    </tr>\n",
       "    <tr>\n",
       "      <th>3</th>\n",
       "      <td>2021-06-01</td>\n",
       "      <td>North</td>\n",
       "      <td>Wholesale</td>\n",
       "      <td>Frame &amp; body</td>\n",
       "      <td>16</td>\n",
       "      <td>37.84</td>\n",
       "      <td>605.44</td>\n",
       "      <td>Transfer</td>\n",
       "    </tr>\n",
       "    <tr>\n",
       "      <th>4</th>\n",
       "      <td>2021-06-01</td>\n",
       "      <td>Central</td>\n",
       "      <td>Retail</td>\n",
       "      <td>Engine</td>\n",
       "      <td>2</td>\n",
       "      <td>60.48</td>\n",
       "      <td>120.96</td>\n",
       "      <td>Credit card</td>\n",
       "    </tr>\n",
       "  </tbody>\n",
       "</table>\n",
       "</div>"
      ],
      "text/plain": [
       "        date warehouse client_type           product_line  quantity  \\\n",
       "0 2021-06-01   Central      Retail          Miscellaneous         8   \n",
       "1 2021-06-01     North      Retail        Breaking system         9   \n",
       "2 2021-06-01     North      Retail  Suspension & traction         8   \n",
       "3 2021-06-01     North   Wholesale           Frame & body        16   \n",
       "4 2021-06-01   Central      Retail                 Engine         2   \n",
       "\n",
       "   unit_price   total      payment  \n",
       "0       16.85  134.83  Credit card  \n",
       "1       19.29  173.61         Cash  \n",
       "2       32.93  263.45  Credit card  \n",
       "3       37.84  605.44     Transfer  \n",
       "4       60.48  120.96  Credit card  "
      ]
     },
     "execution_count": 33,
     "metadata": {},
     "output_type": "execute_result"
    }
   ],
   "source": [
    "df.head()"
   ]
  },
  {
   "cell_type": "markdown",
   "id": "6c0744d0",
   "metadata": {},
   "source": [
    "## 💪 Challenge\n",
    "Create a report to answer your colleague's questions. Include:\n",
    "\n",
    "1. What are the total sales for each payment method?\n",
    "2. What is the average unit price for each product line?\n",
    "3. Create plots to visualize findings for questions 1 and 2.\n",
    "4. [Optional] Investigate further (e.g., average purchase value by client type, total purchase value by product line, etc.)\n",
    "5. Summarize your findings."
   ]
  },
  {
   "cell_type": "markdown",
   "id": "fd227115",
   "metadata": {},
   "source": [
    "## ✅ Checklist before publishing\n",
    "- Rename your workspace to make it descriptive of your work. N.B. you should leave the notebook name as notebook.ipynb.\n",
    "- Remove redundant cells like the introduction to data science notebooks, so the workbook is focused on your story.\n",
    "- Check that all the cells run without error."
   ]
  },
  {
   "cell_type": "markdown",
   "id": "d21a86dd",
   "metadata": {},
   "source": [
    "## ⌛️ Time is ticking. Good luck!"
   ]
  },
  {
   "cell_type": "code",
   "execution_count": 34,
   "id": "2af88bc7",
   "metadata": {},
   "outputs": [
    {
     "data": {
      "text/plain": [
       "array(['Credit card', 'Cash', 'Transfer'], dtype=object)"
      ]
     },
     "execution_count": 34,
     "metadata": {},
     "output_type": "execute_result"
    }
   ],
   "source": [
    "df['payment'].unique()"
   ]
  },
  {
   "cell_type": "code",
   "execution_count": 35,
   "id": "393c356d-c5c4-4c55-876e-bb85e70fe8ef",
   "metadata": {},
   "outputs": [
    {
     "data": {
      "text/plain": [
       "date            0\n",
       "warehouse       0\n",
       "client_type     0\n",
       "product_line    0\n",
       "quantity        0\n",
       "unit_price      0\n",
       "total           0\n",
       "payment         0\n",
       "dtype: int64"
      ]
     },
     "execution_count": 35,
     "metadata": {},
     "output_type": "execute_result"
    }
   ],
   "source": [
    "df.isnull().sum()"
   ]
  },
  {
   "cell_type": "code",
   "execution_count": 36,
   "id": "4f282f04-ba57-4b40-90a0-31e722c6f85f",
   "metadata": {},
   "outputs": [
    {
     "data": {
      "application/com.datacamp.data-table.v1+json": {
       "table": {
        "data": [
         {
          "index": 0,
          "payment": "Transfer",
          "total": 159642.33
         },
         {
          "index": 1,
          "payment": "Credit card",
          "total": 110271.57
         },
         {
          "index": 2,
          "payment": "Cash",
          "total": 19199.1
         }
        ],
        "schema": {
         "fields": [
          {
           "name": "index",
           "type": "integer"
          },
          {
           "name": "payment",
           "type": "string"
          },
          {
           "name": "total",
           "type": "number"
          }
         ],
         "pandas_version": "1.4.0",
         "primaryKey": [
          "index"
         ]
        }
       },
       "total_rows": 3,
       "truncation_type": null
      },
      "text/html": [
       "<div>\n",
       "<style scoped>\n",
       "    .dataframe tbody tr th:only-of-type {\n",
       "        vertical-align: middle;\n",
       "    }\n",
       "\n",
       "    .dataframe tbody tr th {\n",
       "        vertical-align: top;\n",
       "    }\n",
       "\n",
       "    .dataframe thead th {\n",
       "        text-align: right;\n",
       "    }\n",
       "</style>\n",
       "<table border=\"1\" class=\"dataframe\">\n",
       "  <thead>\n",
       "    <tr style=\"text-align: right;\">\n",
       "      <th></th>\n",
       "      <th>payment</th>\n",
       "      <th>total</th>\n",
       "    </tr>\n",
       "  </thead>\n",
       "  <tbody>\n",
       "    <tr>\n",
       "      <th>0</th>\n",
       "      <td>Transfer</td>\n",
       "      <td>159642.33</td>\n",
       "    </tr>\n",
       "    <tr>\n",
       "      <th>1</th>\n",
       "      <td>Credit card</td>\n",
       "      <td>110271.57</td>\n",
       "    </tr>\n",
       "    <tr>\n",
       "      <th>2</th>\n",
       "      <td>Cash</td>\n",
       "      <td>19199.10</td>\n",
       "    </tr>\n",
       "  </tbody>\n",
       "</table>\n",
       "</div>"
      ],
      "text/plain": [
       "       payment      total\n",
       "0     Transfer  159642.33\n",
       "1  Credit card  110271.57\n",
       "2         Cash   19199.10"
      ]
     },
     "execution_count": 36,
     "metadata": {},
     "output_type": "execute_result"
    }
   ],
   "source": [
    "df1= df.groupby('payment')['total'].sum().sort_values(ascending = False).reset_index()\n",
    "df1"
   ]
  },
  {
   "cell_type": "code",
   "execution_count": 37,
   "id": "b2413ee1-5e74-4193-a7f6-86a11a843c72",
   "metadata": {},
   "outputs": [
    {
     "data": {
      "application/com.datacamp.data-table.v1+json": {
       "table": {
        "data": [
         {
          "index": 0,
          "product_line": "Engine",
          "unit_price": 60.0918032787
         },
         {
          "index": 1,
          "product_line": "Frame & body",
          "unit_price": 42.8322289157
         },
         {
          "index": 2,
          "product_line": "Suspension & traction",
          "unit_price": 33.9698684211
         },
         {
          "index": 3,
          "product_line": "Electrical system",
          "unit_price": 25.5851295337
         },
         {
          "index": 4,
          "product_line": "Miscellaneous",
          "unit_price": 22.8107377049
         },
         {
          "index": 5,
          "product_line": "Breaking system",
          "unit_price": 17.7405217391
         }
        ],
        "schema": {
         "fields": [
          {
           "name": "index",
           "type": "integer"
          },
          {
           "name": "product_line",
           "type": "string"
          },
          {
           "name": "unit_price",
           "type": "number"
          }
         ],
         "pandas_version": "1.4.0",
         "primaryKey": [
          "index"
         ]
        }
       },
       "total_rows": 6,
       "truncation_type": null
      },
      "text/html": [
       "<div>\n",
       "<style scoped>\n",
       "    .dataframe tbody tr th:only-of-type {\n",
       "        vertical-align: middle;\n",
       "    }\n",
       "\n",
       "    .dataframe tbody tr th {\n",
       "        vertical-align: top;\n",
       "    }\n",
       "\n",
       "    .dataframe thead th {\n",
       "        text-align: right;\n",
       "    }\n",
       "</style>\n",
       "<table border=\"1\" class=\"dataframe\">\n",
       "  <thead>\n",
       "    <tr style=\"text-align: right;\">\n",
       "      <th></th>\n",
       "      <th>product_line</th>\n",
       "      <th>unit_price</th>\n",
       "    </tr>\n",
       "  </thead>\n",
       "  <tbody>\n",
       "    <tr>\n",
       "      <th>0</th>\n",
       "      <td>Engine</td>\n",
       "      <td>60.091803</td>\n",
       "    </tr>\n",
       "    <tr>\n",
       "      <th>1</th>\n",
       "      <td>Frame &amp; body</td>\n",
       "      <td>42.832229</td>\n",
       "    </tr>\n",
       "    <tr>\n",
       "      <th>2</th>\n",
       "      <td>Suspension &amp; traction</td>\n",
       "      <td>33.969868</td>\n",
       "    </tr>\n",
       "    <tr>\n",
       "      <th>3</th>\n",
       "      <td>Electrical system</td>\n",
       "      <td>25.585130</td>\n",
       "    </tr>\n",
       "    <tr>\n",
       "      <th>4</th>\n",
       "      <td>Miscellaneous</td>\n",
       "      <td>22.810738</td>\n",
       "    </tr>\n",
       "    <tr>\n",
       "      <th>5</th>\n",
       "      <td>Breaking system</td>\n",
       "      <td>17.740522</td>\n",
       "    </tr>\n",
       "  </tbody>\n",
       "</table>\n",
       "</div>"
      ],
      "text/plain": [
       "            product_line  unit_price\n",
       "0                 Engine   60.091803\n",
       "1           Frame & body   42.832229\n",
       "2  Suspension & traction   33.969868\n",
       "3      Electrical system   25.585130\n",
       "4          Miscellaneous   22.810738\n",
       "5        Breaking system   17.740522"
      ]
     },
     "execution_count": 37,
     "metadata": {},
     "output_type": "execute_result"
    }
   ],
   "source": [
    "df2= df.groupby('product_line')['unit_price'].mean().sort_values(ascending = False).reset_index()\n",
    "df2"
   ]
  },
  {
   "cell_type": "code",
   "execution_count": 38,
   "id": "2aa16da2-696e-4f85-a395-0a30c5dd12df",
   "metadata": {},
   "outputs": [],
   "source": [
    "import seaborn as sns\n",
    "import numpy as np"
   ]
  },
  {
   "cell_type": "code",
   "execution_count": 39,
   "id": "de578a7e-5d65-4d6d-8d30-47513c705e59",
   "metadata": {},
   "outputs": [
    {
     "data": {
      "text/plain": [
       "Text(0, 0.5, 'Cost of goods sold($)')"
      ]
     },
     "execution_count": 39,
     "metadata": {},
     "output_type": "execute_result"
    },
    {
     "data": {
      "image/png": "[encoded data removed]",
      "text/plain": [
       "<Figure size 640x480 with 1 Axes>"
      ]
     },
     "metadata": {},
     "output_type": "display_data"
    }
   ],
   "source": [
    "df1_plot = sns.barplot(x='payment', y = 'total',data = df1, palette= ['purple', 'salmon','lightpink'])\n",
    "df1_plot.set(title ='TOTAL SALES PER PAYMENT METHOD' )\n",
    "plt.xlabel('Payment Methods')\n",
    "plt.ylabel('Cost of goods sold($)')"
   ]
  },
  {
   "cell_type": "code",
   "execution_count": 40,
   "id": "49149abe-9489-4b77-bac9-0543b8295965",
   "metadata": {},
   "outputs": [
    {
     "data": {
      "text/plain": [
       "<Figure size 640x480 with 0 Axes>"
      ]
     },
     "execution_count": 40,
     "metadata": {},
     "output_type": "execute_result"
    },
    {
     "data": {
      "image/png": "[encoded data removed]",
      "text/plain": [
       "<Figure size 640x480 with 1 Axes>"
      ]
     },
     "metadata": {},
     "output_type": "display_data"
    },
    {
     "data": {
      "text/plain": [
       "<Figure size 640x480 with 0 Axes>"
      ]
     },
     "metadata": {},
     "output_type": "display_data"
    }
   ],
   "source": [
    "df2_plot = sns.barplot(x = 'product_line', y = 'unit_price', data = df2, estimator= np.mean)\n",
    "df2_plot.set(title = 'Average unit price per product line')\n",
    "plt.ylabel('Unit Price ($)')\n",
    "plt.xlabel('Product Lines')\n",
    "plt.xticks(rotation = -45)\n",
    "plt.figure()\n"
   ]
  },
  {
   "cell_type": "code",
   "execution_count": 41,
   "id": "9cd83c0d-6cf7-4997-b8ab-ce66aff9b61d",
   "metadata": {},
   "outputs": [
    {
     "data": {
      "text/plain": [
       "array(['Retail', 'Wholesale'], dtype=object)"
      ]
     },
     "execution_count": 41,
     "metadata": {},
     "output_type": "execute_result"
    }
   ],
   "source": [
    "df['client_type'].unique() "
   ]
  },
  {
   "cell_type": "code",
   "execution_count": 42,
   "id": "6c3ca31e-3916-499e-be4f-d83834473ea5",
   "metadata": {},
   "outputs": [
    {
     "data": {
      "application/com.datacamp.data-table.v1+json": {
       "table": {
        "data": [
         {
          "client_type": "Wholesale",
          "index": 0,
          "total": 709.5214666667
         },
         {
          "client_type": "Retail",
          "index": 1,
          "total": 167.0589290323
         }
        ],
        "schema": {
         "fields": [
          {
           "name": "index",
           "type": "integer"
          },
          {
           "name": "client_type",
           "type": "string"
          },
          {
           "name": "total",
           "type": "number"
          }
         ],
         "pandas_version": "1.4.0",
         "primaryKey": [
          "index"
         ]
        }
       },
       "total_rows": 2,
       "truncation_type": null
      },
      "text/html": [
       "<div>\n",
       "<style scoped>\n",
       "    .dataframe tbody tr th:only-of-type {\n",
       "        vertical-align: middle;\n",
       "    }\n",
       "\n",
       "    .dataframe tbody tr th {\n",
       "        vertical-align: top;\n",
       "    }\n",
       "\n",
       "    .dataframe thead th {\n",
       "        text-align: right;\n",
       "    }\n",
       "</style>\n",
       "<table border=\"1\" class=\"dataframe\">\n",
       "  <thead>\n",
       "    <tr style=\"text-align: right;\">\n",
       "      <th></th>\n",
       "      <th>client_type</th>\n",
       "      <th>total</th>\n",
       "    </tr>\n",
       "  </thead>\n",
       "  <tbody>\n",
       "    <tr>\n",
       "      <th>0</th>\n",
       "      <td>Wholesale</td>\n",
       "      <td>709.521467</td>\n",
       "    </tr>\n",
       "    <tr>\n",
       "      <th>1</th>\n",
       "      <td>Retail</td>\n",
       "      <td>167.058929</td>\n",
       "    </tr>\n",
       "  </tbody>\n",
       "</table>\n",
       "</div>"
      ],
      "text/plain": [
       "  client_type       total\n",
       "0   Wholesale  709.521467\n",
       "1      Retail  167.058929"
      ]
     },
     "execution_count": 42,
     "metadata": {},
     "output_type": "execute_result"
    }
   ],
   "source": [
    "df3 = df.groupby('client_type')['total'].mean().sort_values(ascending=False).reset_index()\n",
    "df3"
   ]
  },
  {
   "cell_type": "code",
   "execution_count": 43,
   "id": "ab80b8a4-8b79-42ea-86c5-a0b7ef464416",
   "metadata": {},
   "outputs": [
    {
     "data": {
      "text/plain": [
       "array(['Miscellaneous', 'Breaking system', 'Suspension & traction',\n",
       "       'Frame & body', 'Engine', 'Electrical system'], dtype=object)"
      ]
     },
     "execution_count": 43,
     "metadata": {},
     "output_type": "execute_result"
    }
   ],
   "source": [
    "df['product_line'].unique()"
   ]
  },
  {
   "cell_type": "code",
   "execution_count": 44,
   "id": "4fcc2509-a8a7-4e63-b9eb-cbfb97814b3e",
   "metadata": {},
   "outputs": [
    {
     "data": {
      "application/com.datacamp.data-table.v1+json": {
       "table": {
        "data": [
         {
          "index": 0,
          "product_line": "Suspension & traction",
          "total": 73014.21
         },
         {
          "index": 1,
          "product_line": "Frame & body",
          "total": 69024.73
         },
         {
          "index": 2,
          "product_line": "Electrical system",
          "total": 43612.71
         },
         {
          "index": 3,
          "product_line": "Breaking system",
          "total": 38350.15
         },
         {
          "index": 4,
          "product_line": "Engine",
          "total": 37945.38
         },
         {
          "index": 5,
          "product_line": "Miscellaneous",
          "total": 27165.82
         }
        ],
        "schema": {
         "fields": [
          {
           "name": "index",
           "type": "integer"
          },
          {
           "name": "product_line",
           "type": "string"
          },
          {
           "name": "total",
           "type": "number"
          }
         ],
         "pandas_version": "1.4.0",
         "primaryKey": [
          "index"
         ]
        }
       },
       "total_rows": 6,
       "truncation_type": null
      },
      "text/html": [
       "<div>\n",
       "<style scoped>\n",
       "    .dataframe tbody tr th:only-of-type {\n",
       "        vertical-align: middle;\n",
       "    }\n",
       "\n",
       "    .dataframe tbody tr th {\n",
       "        vertical-align: top;\n",
       "    }\n",
       "\n",
       "    .dataframe thead th {\n",
       "        text-align: right;\n",
       "    }\n",
       "</style>\n",
       "<table border=\"1\" class=\"dataframe\">\n",
       "  <thead>\n",
       "    <tr style=\"text-align: right;\">\n",
       "      <th></th>\n",
       "      <th>product_line</th>\n",
       "      <th>total</th>\n",
       "    </tr>\n",
       "  </thead>\n",
       "  <tbody>\n",
       "    <tr>\n",
       "      <th>0</th>\n",
       "      <td>Suspension &amp; traction</td>\n",
       "      <td>73014.21</td>\n",
       "    </tr>\n",
       "    <tr>\n",
       "      <th>1</th>\n",
       "      <td>Frame &amp; body</td>\n",
       "      <td>69024.73</td>\n",
       "    </tr>\n",
       "    <tr>\n",
       "      <th>2</th>\n",
       "      <td>Electrical system</td>\n",
       "      <td>43612.71</td>\n",
       "    </tr>\n",
       "    <tr>\n",
       "      <th>3</th>\n",
       "      <td>Breaking system</td>\n",
       "      <td>38350.15</td>\n",
       "    </tr>\n",
       "    <tr>\n",
       "      <th>4</th>\n",
       "      <td>Engine</td>\n",
       "      <td>37945.38</td>\n",
       "    </tr>\n",
       "    <tr>\n",
       "      <th>5</th>\n",
       "      <td>Miscellaneous</td>\n",
       "      <td>27165.82</td>\n",
       "    </tr>\n",
       "  </tbody>\n",
       "</table>\n",
       "</div>"
      ],
      "text/plain": [
       "            product_line     total\n",
       "0  Suspension & traction  73014.21\n",
       "1           Frame & body  69024.73\n",
       "2      Electrical system  43612.71\n",
       "3        Breaking system  38350.15\n",
       "4                 Engine  37945.38\n",
       "5          Miscellaneous  27165.82"
      ]
     },
     "execution_count": 44,
     "metadata": {},
     "output_type": "execute_result"
    }
   ],
   "source": [
    "df4= df.groupby('product_line')['total'].sum().sort_values(ascending= False).reset_index()\n",
    "df4"
   ]
  },
  {
   "cell_type": "code",
   "execution_count": 45,
   "id": "0d0518f5-022c-417a-a508-b4cfc899219f",
   "metadata": {},
   "outputs": [
    {
     "data": {
      "text/plain": [
       "[Text(0, 0, '709.521'), Text(0, 0, '167.059')]"
      ]
     },
     "execution_count": 45,
     "metadata": {},
     "output_type": "execute_result"
    },
    {
     "data": {
      "image/png": "[encoded data removed]",
      "text/plain": [
       "<Figure size 640x480 with 1 Axes>"
      ]
     },
     "metadata": {},
     "output_type": "display_data"
    }
   ],
   "source": [
    "df3_plot = sns.barplot(y='client_type', x = 'total',data = df3, palette= ['yellow', 'salmon','lightpink'])\n",
    "df3_plot.set(title ='AVERAGE PURCHASE VALUE PER CLIENT TYPE' )\n",
    "plt.xlabel('TOTAL SALES($)')\n",
    "plt.ylabel('CLIENT TYPE')\n",
    "df3_plot.bar_label(df3_plot.containers[0])"
   ]
  },
  {
   "cell_type": "code",
   "execution_count": 48,
   "id": "445a73cd-3566-4cd4-91b4-3e0c2bbdf65a",
   "metadata": {},
   "outputs": [
    {
     "data": {
      "text/plain": [
       "<Figure size 640x480 with 0 Axes>"
      ]
     },
     "execution_count": 48,
     "metadata": {},
     "output_type": "execute_result"
    },
    {
     "data": {
      "image/png": "[encoded data removed]",
      "text/plain": [
       "<Figure size 640x480 with 1 Axes>"
      ]
     },
     "metadata": {},
     "output_type": "display_data"
    },
    {
     "data": {
      "text/plain": [
       "<Figure size 640x480 with 0 Axes>"
      ]
     },
     "metadata": {},
     "output_type": "display_data"
    }
   ],
   "source": [
    "df4_plot = sns.barplot(x='product_line', y = 'total',data = df4, palette= ['yellow', 'salmon','purple'])\n",
    "df4_plot.set(title ='TOTAL PURCHASE VALUE PER PRODUCT LINE' )\n",
    "plt.ylabel('TOTAL SALES($)')\n",
    "plt.xlabel('PRODUCT LINE')\n",
    "df4_plot.bar_label(df4_plot.containers[0])\n",
    "plt.xticks(rotation = -45)\n",
    "plt.figure()"
   ]
  },
  {
   "cell_type": "code",
   "execution_count": 47,
   "id": "2febdd57-c258-4cb9-859c-625dd27ec40c",
   "metadata": {},
   "outputs": [],
   "source": [
    "### NO 5(FINDINGS)"
   ]
  },
  {
   "cell_type": "markdown",
   "id": "939d3aa1-e4c1-4e7f-8d62-23c4cc91c881",
   "metadata": {},
   "source": [
    "1) Most customers made payment through TRANSFER METHOD\n",
    "2) The BREAKING SYSTEM has the cheapest unit price in the product line\n",
    "3) The WHOLESALERS bought much more than the retailers\n",
    "4) SUSPENSION AND TRACTION product line made the highest sales"
   ]
  },
  {
   "cell_type": "markdown",
   "id": "629b50d1-f91b-4ccc-a925-4f63c3e040fa",
   "metadata": {},
   "source": []
  }
 ],
 "metadata": {
  "kernelspec": {
   "display_name": "Python 3 (ipykernel)",
   "language": "python",
   "name": "python3"
  },
  "language_info": {
   "codemirror_mode": {
    "name": "ipython",
    "version": 3
   },
   "file_extension": ".py",
   "mimetype": "text/x-python",
   "name": "python",
   "nbconvert_exporter": "python",
   "pygments_lexer": "ipython3",
   "version": "3.9.12"
  }
 },
 "nbformat": 4,
 "nbformat_minor": 5
}
